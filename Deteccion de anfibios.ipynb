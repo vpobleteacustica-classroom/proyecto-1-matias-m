{
 "cells": [
  {
   "cell_type": "markdown",
   "id": "f81d1951-79e1-4b2a-9440-7eeec829b19e",
   "metadata": {},
   "source": [
    "\n",
    "![escudo u austral](Escudo_uaustralchile)\n",
    "# Proyecto de ACUS 220 Acústica Computacional con Python \"Deteccion de anfibios\"\n",
    "### Primer Hito de Entrega\n",
    "**Integrantes:** Matias Muñoz\n"
   ]
  },
  {
   "cell_type": "markdown",
   "id": "cb39701b-ce93-4857-8c7a-5df31f8a63f7",
   "metadata": {},
   "source": [
    "## Objetivo General\n",
    "\n",
    "Optimizar la identificacion de anfibios en terreno mediante acustica y programacion"
   ]
  },
  {
   "cell_type": "markdown",
   "id": "d6df6fa6-5e28-4653-9b7a-63584a004eba",
   "metadata": {
    "jp-MarkdownHeadingCollapsed": true
   },
   "source": [
    "##\tEstado del Arte\n",
    "\n",
    "La detección de anfibios mediante bioacústica se ha convertido en una herramienta fundamental para el monitoreo ecológico y la conservación de especies, permitiendo registrar la actividad vocal en distintos contextos ambientales de forma no invasiva. En Chile, estudios como el de Velásquez et al. (2013) describieron la variación geográfica del canto de Pleurodema thaul, encontrando diferencias espectrales asociadas a la divergencia genética entre poblaciones. De forma complementaria, Penna y Velásquez (2018) evaluaron la hipótesis de adaptación acústica y demostraron que los cantos de poblaciones australes se propagan con menor degradación en sus ambientes locales, evidenciando adaptación local de la señal acústica a condiciones ambientales. Además, proyectos recientes de monitoreo acústico en el sur de Chile han incorporado grabaciones continuas y reconocimiento semiautomático de especies para generar bases de datos sonoras aplicadas a la gestión de áreas protegidas (Universidad Austral de Chile, 2023). A nivel latinoamericano, Akmentins et al. (2023) implementaron monitoreo acústico pasivo en dos especies de Oreobates mediante unidades de grabación automática y modelos lineales mixtos, evaluando el efecto de temperatura y humedad sobre la actividad vocal. Por su parte, Rodríguez-Correa et al. (2024) analizaron el canto de Espadarana prosoblepon en Colombia a través de un enfoque multivariante, aplicando análisis de componentes principales (PCA) y regresiones múltiples para relacionar variables acústicas con el tamaño corporal y la temperatura. En conjunto, estos estudios demuestran el avance metodológico y la creciente precisión de la bioacústica como herramienta para el estudio y detección de anfibios en diversos contextos ecológicos."
   ]
  },
  {
   "cell_type": "markdown",
   "id": "a17ce56e-6cda-4d2c-b2be-2a570ca218d6",
   "metadata": {},
   "source": [
    "\n",
    "\n",
    "##  Materiales y datos\n",
    "\n",
    "**Fuentes de datos y materiales:**\n",
    "- Grabaciones propias y públicas (Xeno-canto, colecciones universitarias, bases de datos de anfibios sudamericanos).\n",
    "- Archivos WAV con metadatos (especie, lugar, temperatura, humedad, fecha, hora).\n",
    "- Unidades de grabación automática (ARUs) o micrófonos direccionales.\n",
    "- Software: Raven Pro, Audacity o Python para segmentar y anotar.\n",
    "- Datos ambientales: temperatura y humedad (sensores HOBO o equivalentes).\n",
    "\n",
    "**Librerías de Python a utilizar:**\n",
    "- `librosa`, `soundfile`, `torchaudio` → lectura y procesamiento de audio.\n",
    "- `numpy`, `pandas` → manejo de datos y metadatos.\n",
    "- `matplotlib`, `seaborn` → visualización.\n",
    "- `scikit-learn`, `tensorflow` o `pytorch` → modelado básico.\n",
    "- `streamlit` o `gradio` → visualización de resultados (opcional).\n",
    "\n",
    "---\n",
    "\n",
    "##  Metodología\n",
    "\n",
    "1. **Recolección de datos:**  \n",
    "   Se reunirán grabaciones públicas y, en la medida de lo posible, registros propios de campo.  \n",
    "   Se documentará la metadata de cada archivo (fecha, hora, sitio, especie).\n",
    "\n",
    "2. **Curación y anotación:**  \n",
    "   Se segmentarán los audios en ventanas cortas (1–5 segundos) y se etiquetarán manualmente los cantos de especies detectadas.\n",
    "\n",
    "3. **Preprocesamiento:**  \n",
    "   - Eliminación de ruido y normalización.  \n",
    "   - Cálculo de espectrogramas o MFCCs con `librosa`.  \n",
    "   - Organización de los datos para entrenamiento.\n",
    "\n",
    "4. **Análisis exploratorio:**  \n",
    "   - Visualización de espectrogramas.  \n",
    "   - Revisión de balance entre clases y duración de los cantos.  \n",
    "\n",
    "5. **Modelado inicial (baseline):**  \n",
    "   Entrenar un modelo simple (Random Forest o CNN pequeña) para clasificar especies o distinguir “presencia/ausencia de canto”.\n",
    "\n",
    "6. **Evaluación básica:**  \n",
    "   - Métricas: accuracy, recall y matriz de confusión.  \n",
    "   - Visualización de errores comunes y ejemplos de predicciones correctas/incorrectas.\n",
    "\n",
    "---\n",
    "\n",
    "## 🗓️ Plan de trabajo (Octubre–Diciembre 2025)\n",
    "\n",
    "| Nº | Tarea / Actividad                                | Descripción breve                                                            | Responsable             | Fecha inicio | Fecha fin    | Entregable / Hito |\n",
    "|----|--------------------------------------------------|------------------------------------------------------------------------------|--------------------------|--------------|--------------|-------------------|\n",
    "| 1  | Revisión bibliográfica y definición del alcance  | Reunir papers sobre bioacústica de anfibios y definir objetivos específicos  |Matias Muñoz             | 2025-10-06   | 2025-10-15   | Documento de alcance |\n",
    "| 2  | Recolección de audios y metadatos                | Descargar grabaciones de bases públicas y organizar estructura de carpetas   | Matias Muñoz              | 2025-10-10   | 2025-10-25   | Dataset inicial (.wav + .csv) |\n",
    "| 3  | Anotación y etiquetado                           | Segmentar audios y etiquetar especies o tipo de canto                        | Matias Muñoz    | 2025-10-20   | 2025-11-10   | Dataset etiquetado |\n",
    "| 4  | Preprocesamiento de señales                      | Limpieza de ruido, extracción de espectrogramas, generación de features      | Matias Muñoz              | 2025-11-05   | 2025-11-20   | Dataset preprocesado |\n",
    "| 5  | Análisis exploratorio                            | Visualización de audios, espectrogramas y distribución de clases             | Matias Muñoz              | 2025-11-20   | 2025-11-30   | Notebook de análisis EDA |\n",
    "| 6  | Entrenamiento de modelo base                     | Implementar modelo simple (Random Forest / CNN pequeña)                      | Matias Muñoz              | 2025-12-01   | 2025-12-15   | Modelo baseline + métricas |\n",
    "| 7  | Evaluación y documentación                       | Evaluar resultados, comentar limitaciones y documentar en notebook final     | Matias Muñoz              | 2025-12-15   | 2025-12-20   | Notebook final + informe |\n",
    "\n",
    "\n",
    "\n",
    "\n",
    "\n",
    "\n",
    "\n",
    "\n",
    "\n"
   ]
  },
  {
   "cell_type": "markdown",
   "id": "296b412c-f441-4c38-be06-086e0ad98fcc",
   "metadata": {},
   "source": [
    "## Referencias Bibliográficas:\n",
    "Akmentins, M. S., Boullhesen, M., Vaira, M., & Pereyra, L. C. (2023). Vocalization behavior and calling phenology in two direct-developing frogs of the genus Oreobates of Yungas Andean forests in northwest Argentina. Herpetological Conservation and Biology, 18(2), 315–325. https://www.researchgate.net/publication/373627371\n",
    "\n",
    "Penna, M., & Velásquez, N. A. (2018). Acoustic adaptation of anuran calls to local habitats: Testing the transmission properties of “Pleurodema thaul” advertisement calls. PLoS ONE, 13(5), e0196555. https://doi.org/10.1371/journal.pone.0196555\n",
    "\n",
    "Rodríguez-Correa, V., González-Alzate, S., Rada, M., & Vargas-Salinas, F. (2024). The advertisement call of Espadarana prosoblepon (Anura: Centrolenidae) from a population in the Central Andes of Colombia. Phyllomedusa, 23(2), 165–178. https://doi.org/10.11606/issn.2316-9079.v23i2p165-178\n",
    "\n",
    "Universidad Austral de Chile. (2023). Libro enseña a reconocer cantos de aves y anfibios del bosque costero valdiviano. Diario UACh. https://diario.uach.cl/libro-ensea-a-reconocer-cantos-de-aves-y-anfibios-del-bosque-costero-valdiviano\n",
    "\n",
    "Velásquez, N. A., Opazo, D., & Penna, M. (2013). Geographic variation in advertisement calls of the frog Pleurodema thaul (Anura: Leiuperidae): Implications for its systematic and evolutionary relationships. Bioacoustics, 22(3), 207–224. https://repositorio.uchile.cl/handle/2250/129250"
   ]
  },
  {
   "cell_type": "code",
   "execution_count": null,
   "id": "73b6af90-2faf-4881-b95e-d37895976fae",
   "metadata": {},
   "outputs": [],
   "source": []
  }
 ],
 "metadata": {
  "kernelspec": {
   "display_name": "Python 3 (ipykernel)",
   "language": "python",
   "name": "python3"
  },
  "language_info": {
   "codemirror_mode": {
    "name": "ipython",
    "version": 3
   },
   "file_extension": ".py",
   "mimetype": "text/x-python",
   "name": "python",
   "nbconvert_exporter": "python",
   "pygments_lexer": "ipython3",
   "version": "3.13.5"
  }
 },
 "nbformat": 4,
 "nbformat_minor": 5
}
